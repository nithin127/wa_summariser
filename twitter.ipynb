{
 "cells": [
  {
   "cell_type": "code",
   "execution_count": 2,
   "metadata": {},
   "outputs": [
    {
     "name": "stdout",
     "output_type": "stream",
     "text": [
      "403\n"
     ]
    },
    {
     "ename": "Exception",
     "evalue": "Request returned an error: 403 {\"client_id\":\"28196251\",\"detail\":\"When authenticating requests to the Twitter API v2 endpoints, you must use keys and tokens from a Twitter developer App that is attached to a Project. You can create a project via the developer portal.\",\"registration_url\":\"https://developer.twitter.com/en/docs/projects/overview\",\"title\":\"Client Forbidden\",\"required_enrollment\":\"Appropriate Level of API Access\",\"reason\":\"client-not-enrolled\",\"type\":\"https://api.twitter.com/2/problems/client-forbidden\"}",
     "output_type": "error",
     "traceback": [
      "\u001b[0;31m---------------------------------------------------------------------------\u001b[0m",
      "\u001b[0;31mException\u001b[0m                                 Traceback (most recent call last)",
      "Cell \u001b[0;32mIn[2], line 29\u001b[0m\n\u001b[1;32m     27\u001b[0m \u001b[38;5;28mprint\u001b[39m(response\u001b[38;5;241m.\u001b[39mstatus_code)\n\u001b[1;32m     28\u001b[0m \u001b[38;5;28;01mif\u001b[39;00m response\u001b[38;5;241m.\u001b[39mstatus_code \u001b[38;5;241m!=\u001b[39m \u001b[38;5;241m200\u001b[39m:\n\u001b[0;32m---> 29\u001b[0m     \u001b[38;5;28;01mraise\u001b[39;00m \u001b[38;5;167;01mException\u001b[39;00m(\n\u001b[1;32m     30\u001b[0m         \u001b[38;5;124m\"\u001b[39m\u001b[38;5;124mRequest returned an error: \u001b[39m\u001b[38;5;132;01m{}\u001b[39;00m\u001b[38;5;124m \u001b[39m\u001b[38;5;132;01m{}\u001b[39;00m\u001b[38;5;124m\"\u001b[39m\u001b[38;5;241m.\u001b[39mformat(\n\u001b[1;32m     31\u001b[0m             response\u001b[38;5;241m.\u001b[39mstatus_code, response\u001b[38;5;241m.\u001b[39mtext\n\u001b[1;32m     32\u001b[0m         )\n\u001b[1;32m     33\u001b[0m     )\n\u001b[1;32m     34\u001b[0m \u001b[38;5;28;01melse\u001b[39;00m:\n\u001b[1;32m     35\u001b[0m     json_response \u001b[38;5;241m=\u001b[39m  response\u001b[38;5;241m.\u001b[39mjson()\n",
      "\u001b[0;31mException\u001b[0m: Request returned an error: 403 {\"client_id\":\"28196251\",\"detail\":\"When authenticating requests to the Twitter API v2 endpoints, you must use keys and tokens from a Twitter developer App that is attached to a Project. You can create a project via the developer portal.\",\"registration_url\":\"https://developer.twitter.com/en/docs/projects/overview\",\"title\":\"Client Forbidden\",\"required_enrollment\":\"Appropriate Level of API Access\",\"reason\":\"client-not-enrolled\",\"type\":\"https://api.twitter.com/2/problems/client-forbidden\"}"
     ]
    }
   ],
   "source": [
    "import requests\n",
    "import os\n",
    "import json\n",
    "\n",
    "# To set your enviornment variables in your terminal run the following line:\n",
    "# export 'BEARER_TOKEN'='<your_bearer_token>'\n",
    "bearer_token = os.environ.get(\"X_BEARER_TOKEN\")\n",
    "\n",
    "\n",
    "def bearer_oauth(r):\n",
    "    \"\"\"\n",
    "    Method required by bearer token authentication.\n",
    "    \"\"\"\n",
    "\n",
    "    r.headers[\"Authorization\"] = f\"Bearer {bearer_token}\"\n",
    "    r.headers[\"User-Agent\"] = \"v2TweetLookupPython\"\n",
    "    return r\n",
    "\n",
    "\n",
    "tweet_fields = \"tweet.fields=lang,author_id\"\n",
    "ids = \"ids=1735014242808647845\"\n",
    "url = \"https://api.twitter.com/2/tweets?{}&{}\".format(ids, tweet_fields)\n",
    "\n",
    "\n",
    "response = requests.request(\"GET\", url, auth=bearer_oauth)\n",
    "print(response.status_code)\n",
    "if response.status_code != 200:\n",
    "    raise Exception(\n",
    "        \"Request returned an error: {} {}\".format(\n",
    "            response.status_code, response.text\n",
    "        )\n",
    "    )\n",
    "else:\n",
    "    json_response =  response.json()\n",
    "\n",
    "print(json.dumps(json_response, indent=4, sort_keys=True))\n",
    "\n"
   ]
  },
  {
   "cell_type": "code",
   "execution_count": 1,
   "metadata": {},
   "outputs": [
    {
     "name": "stdout",
     "output_type": "stream",
     "text": [
      "<Response [404]>\n"
     ]
    }
   ],
   "source": [
    "import requests\n",
    "\n",
    "tweet_id = 1735014242808647845\n",
    "response = requests.request(\n",
    "            \"GET\",\n",
    "            \"https://api.twitter.com/1.1/statuses/{}.json\".format(tweet_id)\n",
    ")\n",
    "# print(dir(response.json))\n",
    "# print(response.json())\n",
    "print(response)\n"
   ]
  },
  {
   "cell_type": "code",
   "execution_count": 28,
   "metadata": {},
   "outputs": [
    {
     "ename": "TypeError",
     "evalue": "'OAuth2Session' object is not subscriptable",
     "output_type": "error",
     "traceback": [
      "\u001b[0;31m---------------------------------------------------------------------------\u001b[0m",
      "\u001b[0;31mTypeError\u001b[0m                                 Traceback (most recent call last)",
      "Cell \u001b[0;32mIn[28], line 20\u001b[0m\n\u001b[1;32m     12\u001b[0m payload \u001b[38;5;241m=\u001b[39m {\u001b[38;5;124m\"\u001b[39m\u001b[38;5;124mid\u001b[39m\u001b[38;5;124m\"\u001b[39m:\u001b[38;5;124m\"\u001b[39m\u001b[38;5;124m1735014242808647845\u001b[39m\u001b[38;5;124m\"\u001b[39m}\n\u001b[1;32m     14\u001b[0m token \u001b[38;5;241m=\u001b[39m  OAuth2Session(client_id, redirect_uri\u001b[38;5;241m=\u001b[39mredirect_uri, scope\u001b[38;5;241m=\u001b[39mscopes)\n\u001b[1;32m     15\u001b[0m requests\u001b[38;5;241m.\u001b[39mrequest(\n\u001b[1;32m     16\u001b[0m         \u001b[38;5;124m\"\u001b[39m\u001b[38;5;124mGET\u001b[39m\u001b[38;5;124m\"\u001b[39m,\n\u001b[1;32m     17\u001b[0m         \u001b[38;5;124m\"\u001b[39m\u001b[38;5;124mhttps://api.twitter.com/2/tweets/:id\u001b[39m\u001b[38;5;124m\"\u001b[39m,\n\u001b[1;32m     18\u001b[0m         json\u001b[38;5;241m=\u001b[39mpayload,\n\u001b[1;32m     19\u001b[0m         headers\u001b[38;5;241m=\u001b[39m{\n\u001b[0;32m---> 20\u001b[0m             \u001b[38;5;124m\"\u001b[39m\u001b[38;5;124mAuthorization\u001b[39m\u001b[38;5;124m\"\u001b[39m: \u001b[38;5;124m\"\u001b[39m\u001b[38;5;124mBearer \u001b[39m\u001b[38;5;132;01m{}\u001b[39;00m\u001b[38;5;124m\"\u001b[39m\u001b[38;5;241m.\u001b[39mformat(\u001b[43mtoken\u001b[49m\u001b[43m[\u001b[49m\u001b[38;5;124;43m\"\u001b[39;49m\u001b[38;5;124;43maccess_token\u001b[39;49m\u001b[38;5;124;43m\"\u001b[39;49m\u001b[43m]\u001b[49m),\n\u001b[1;32m     21\u001b[0m             \u001b[38;5;124m\"\u001b[39m\u001b[38;5;124mContent-Type\u001b[39m\u001b[38;5;124m\"\u001b[39m: \u001b[38;5;124m\"\u001b[39m\u001b[38;5;124mapplication/json\u001b[39m\u001b[38;5;124m\"\u001b[39m,\n\u001b[1;32m     22\u001b[0m         },\n\u001b[1;32m     23\u001b[0m     )\n",
      "\u001b[0;31mTypeError\u001b[0m: 'OAuth2Session' object is not subscriptable"
     ]
    }
   ],
   "source": [
    "import os\n",
    "import requests\n",
    "from requests_oauthlib import OAuth2Session, TokenUpdated\n",
    "\n",
    "client_id = os.environ.get(\"X_CLIENT_KEY\")\n",
    "client_secret = os.environ.get(\"X_CLIENT_SECRET\")\n",
    "auth_url = \"https://twitter.com/i/oauth2/authorize\"\n",
    "token_url = \"https://api.twitter.com/2/oauth2/token\"\n",
    "redirect_uri = \"http://127.0.0.1:5000/oauth/callback\"\n",
    "\n",
    "scopes = [\"tweet.read\", \"users.read\", \"tweet.write\", \"offline.access\"]\n",
    "payload = {\"id\":\"1735014242808647845\"}\n",
    "\n",
    "token =  OAuth2Session(client_id, redirect_uri=redirect_uri, scope=scopes)\n",
    "requests.request(\n",
    "        \"GET\",\n",
    "        \"https://api.twitter.com/2/tweets/:id\",\n",
    "        json=payload,\n",
    "        headers={\n",
    "            \"Authorization\": \"Bearer {}\".format(token[\"access_token\"]),\n",
    "            \"Content-Type\": \"application/json\",\n",
    "        },\n",
    "    )\n"
   ]
  },
  {
   "cell_type": "code",
   "execution_count": null,
   "metadata": {},
   "outputs": [],
   "source": [
    "import base64\n",
    "import hashlib\n",
    "import os\n",
    "import re\n",
    "import json\n",
    "import requests\n",
    "from requests.auth import AuthBase, HTTPBasicAuth\n",
    "from requests_oauthlib import OAuth2Session, TokenUpdated\n",
    "\n",
    "\n",
    "\n",
    "requests.request(\n",
    "        \"GET\",\n",
    "        \"https://api.twitter.com/2/tweets/:id\",\n",
    "        json=payload,\n",
    "        headers={\n",
    "            \"Authorization\": \"Bearer {}\".format(bearer_token),\n",
    "            \"Content-Type\": \"application/json\",\n",
    "        },\n",
    "    )\n",
    "\n"
   ]
  },
  {
   "cell_type": "code",
   "execution_count": null,
   "metadata": {},
   "outputs": [],
   "source": [
    "%curl --request GET 'https://api.twitter.com/2/tweets/:id' --header 'Authorization: Bearer XXXXXX'"
   ]
  },
  {
   "cell_type": "code",
   "execution_count": null,
   "metadata": {},
   "outputs": [],
   "source": [
    "import os\n",
    "import tweepy\n",
    "\n",
    "consumer_key = os.environ[\"X_CONSUMER_KEY\"] \n",
    "consumer_secret = os.environ[\"X_CONSUMER_SECRET\"]\n",
    "access_key = os.environ[\"X_ACCESS_KEY\"]\n",
    "access_secret = os.environ[\"X_ACCESS_SECRET\"]\n",
    "\n",
    "# auth = tweepy.OAuthHandler(consumer_key, consumer_secret)\n",
    "# auth.set_access_token(access_key, access_secret)\n",
    "\n",
    "# # Create API object\n",
    "# api = tweepy.API(auth)\n",
    "\n",
    "oauth2_user_handler = tweepy.OAuth2UserHandler(\n",
    "    client_id=consumer_key,\n",
    "    redirect_uri=\"http://127.0.0.1:5000/oauth/callback\",\n",
    "    scope=[\"tweet.read\"],\n",
    "    # Client Secret is only necessary if using a confidential client\n",
    "    client_secret=consumer_secret\n",
    ")\n",
    "\n",
    "access_token = oauth2_user_handler.fetch_token(\n",
    "    \"Authorization Response URL here\"\n",
    ")\n",
    "\n",
    "client = tweepy.Client(\"Access Token here\")\n",
    "\n",
    "\n",
    "\n",
    "# client = tweepy.Client(\n",
    "#     consumer_key=consumer_key,\n",
    "#     consumer_secret=consumer_secret,\n",
    "#     access_token=access_key,\n",
    "#     access_token_secret=access_secret\n",
    "# )\n",
    "\n",
    "\n",
    "\n",
    "def get_from_x(url):\n",
    "    # Get tweet ID from tweet URL\n",
    "    tweet_url = 'https://twitter.com/knit_ai/status/1735014242808647845?s=20'\n",
    "    tweet_split = tweet_url.split('/')\n",
    "    \n",
    "    found = False\n",
    "    for i, t in enumerate(tweet_split):\n",
    "        if t == 'status':\n",
    "            found = True\n",
    "            break\n",
    "    \n",
    "    if not found:\n",
    "        return ''\n",
    "    \n",
    "    tweet_id = tweet_url[i+1]\n",
    "    # tweet_user_id = tweet_url[i-1]\n",
    "\n",
    "    # Get tweet ID using the Twitter API\n",
    "    tweet = client.get_tweet(tweet_id)\n",
    "    print(tweet)\n",
    "    # Print tweet ID\n",
    "    # print(f\"Tweet: {tweet.text}\")\n",
    "\n",
    "\n",
    "get_from_x('x')\n"
   ]
  },
  {
   "cell_type": "code",
   "execution_count": null,
   "metadata": {},
   "outputs": [],
   "source": []
  }
 ],
 "metadata": {
  "kernelspec": {
   "display_name": "Python 3",
   "language": "python",
   "name": "python3"
  },
  "language_info": {
   "codemirror_mode": {
    "name": "ipython",
    "version": 3
   },
   "file_extension": ".py",
   "mimetype": "text/x-python",
   "name": "python",
   "nbconvert_exporter": "python",
   "pygments_lexer": "ipython3",
   "version": "3.10.12"
  }
 },
 "nbformat": 4,
 "nbformat_minor": 2
}
